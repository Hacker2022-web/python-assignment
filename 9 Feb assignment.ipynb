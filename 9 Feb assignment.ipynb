{
 "cells": [
  {
   "cell_type": "code",
   "execution_count": 1,
   "id": "a4b71761-a335-435b-9b93-168b4930717a",
   "metadata": {},
   "outputs": [
    {
     "data": {
      "text/plain": [
       "' Q1, Create a vehicle class with an init method having instance variables as name_of_vehicle, max_speed\\nand average_of_vehicle. '"
      ]
     },
     "execution_count": 1,
     "metadata": {},
     "output_type": "execute_result"
    }
   ],
   "source": [
    "''' Q1, Create a vehicle class with an init method having instance variables as name_of_vehicle, max_speed\n",
    "and average_of_vehicle. '''\n"
   ]
  },
  {
   "cell_type": "code",
   "execution_count": 2,
   "id": "401070ba-8e81-4e5d-8f3e-e0784cfa2b25",
   "metadata": {},
   "outputs": [],
   "source": [
    "class Vehicle:\n",
    "    def __init__(self , name_of_vechicle , max_speed, average_of_vechile):\n",
    "        self.name_of_vehicle = name_of_vechicle\n",
    "        self.max_speed = max_speed\n",
    "        self.average_of_vechile = average_of_vechile        "
   ]
  },
  {
   "cell_type": "code",
   "execution_count": 3,
   "id": "a0c83770-0b19-4cd1-8883-4810e820da1b",
   "metadata": {},
   "outputs": [
    {
     "data": {
      "text/plain": [
       "'Q2. Create a child class car from the vehicle class created in Que 1, which will inherit the vehicle class.\\nCreate a method named seating_capacity which takes capacity as an argument and returns the name of\\nthe vehicle and its seating capacity.'"
      ]
     },
     "execution_count": 3,
     "metadata": {},
     "output_type": "execute_result"
    }
   ],
   "source": [
    "\"\"\"Q2. Create a child class car from the vehicle class created in Que 1, which will inherit the vehicle class.\n",
    "Create a method named seating_capacity which takes capacity as an argument and returns the name of\n",
    "the vehicle and its seating capacity.\"\"\""
   ]
  },
  {
   "cell_type": "code",
   "execution_count": 4,
   "id": "134d5f3d-017c-45c0-99ab-b96e3794cb3f",
   "metadata": {},
   "outputs": [],
   "source": [
    "class Car(Vehicle):\n",
    "    def seating_capacity(self, capacity):\n",
    "        return f\"The {self.name_of_vehicle} has a seating capacity of {capacity} people.\""
   ]
  },
  {
   "cell_type": "code",
   "execution_count": 5,
   "id": "c0809600-f1c0-470a-b2d6-aa8ccc89778f",
   "metadata": {},
   "outputs": [],
   "source": [
    "#Q3. What is multiple inheritance? Write a python code to demonstrate multiple inheritance.\n",
    "'''Multiple inheritance is a feature in object-oriented programming where a subclass can inherit from more than one superclass. This means that a class can inherit attributes and methods from multiple parent classes.\n",
    "In multiple inheritance, a subclass can access all the methods and attributes of all its parent classes. This allows for greater flexibility in designing classes and can help reduce code duplication by reusing code from multiple sources.\n",
    "However, multiple inheritance can also lead to increased complexity and potential conflicts, as methods and attributes from different parent classes can have the same name. Careful design and management of class hierarchies is necessary to avoid these issues. '''\n",
    "class class1():\n",
    "    def test_class1(self):\n",
    "        return\"This is class 1\""
   ]
  },
  {
   "cell_type": "code",
   "execution_count": 6,
   "id": "47877d67-1078-41d5-a2aa-013491d7164b",
   "metadata": {},
   "outputs": [],
   "source": [
    "class class2():\n",
    "    def test_class2(self):\n",
    "        return\"This is class 2\"\n"
   ]
  },
  {
   "cell_type": "code",
   "execution_count": 7,
   "id": "35b1470e-a3f5-41a0-be8d-715e043b067b",
   "metadata": {},
   "outputs": [],
   "source": [
    "class class3(class1 , class2):\n",
    "    pass"
   ]
  },
  {
   "cell_type": "code",
   "execution_count": 8,
   "id": "314c9c54-0e46-46f5-91da-6b4f1758aa6d",
   "metadata": {},
   "outputs": [],
   "source": [
    "obj_class3 = class3()"
   ]
  },
  {
   "cell_type": "code",
   "execution_count": 9,
   "id": "8bc0e201-3ac9-4fb9-8549-8e531bb684f0",
   "metadata": {},
   "outputs": [
    {
     "data": {
      "text/plain": [
       "'This is class 1'"
      ]
     },
     "execution_count": 9,
     "metadata": {},
     "output_type": "execute_result"
    }
   ],
   "source": [
    "obj_class3.test_class1()"
   ]
  },
  {
   "cell_type": "code",
   "execution_count": 10,
   "id": "035e9c5e-b904-4b05-8a25-beb96a7abec5",
   "metadata": {},
   "outputs": [
    {
     "data": {
      "text/plain": [
       "'This is class 2'"
      ]
     },
     "execution_count": 10,
     "metadata": {},
     "output_type": "execute_result"
    }
   ],
   "source": [
    "obj_class3.test_class2()"
   ]
  },
  {
   "cell_type": "code",
   "execution_count": 11,
   "id": "55dfbb4c-548b-440b-b6b5-8147b68089fe",
   "metadata": {},
   "outputs": [],
   "source": [
    "#Q4. What are getter and setter in python? Create a class and create a getter and a setter method in this class.\n",
    "\"\"\"In Python, getters and setters are methods that allow us to access and modify the value of an instance variable of a class. Getters are used to access the value of an instance variable, while setters are used to modify the value of an instance variable.\n",
    "\n",
    "Here is an example code for a class with a getter and a setter method:\"\"\"\n",
    "class bank_account:\n",
    "    def __init__(self , balance):\n",
    "        self.__balance = balance \n",
    "    def check_balance(self):\n",
    "        return self.__balance \n",
    "    def withdraw(self,amount):\n",
    "        if amount > self.__balance :\n",
    "            return\"insfficiant balance\"\n",
    "        elif amount<= self.__balance :\n",
    "            self.__balance -= amount  \n",
    "            print(\"successfully debited\", amount)\n",
    "    def deposite(self , amount):\n",
    "        self.__balance += amount\n",
    "        return \"successfully cridited\" , amount"
   ]
  },
  {
   "cell_type": "code",
   "execution_count": 12,
   "id": "47b8b334-ab5d-4755-9d57-4dd1dbcf1a63",
   "metadata": {},
   "outputs": [],
   "source": [
    "#Q5.What is method overriding in python? Write a python code to demonstrate method overriding.\n"
   ]
  },
  {
   "cell_type": "code",
   "execution_count": 17,
   "id": "ba724fe6-6209-4d32-845c-b4a4c19a7fad",
   "metadata": {},
   "outputs": [
    {
     "name": "stdout",
     "output_type": "stream",
     "text": [
      "car is the best thing\n",
      "lambo is my favourite\n",
      "bmw is not my favourite \n"
     ]
    }
   ],
   "source": [
    "\"\"\" Method overriding in Python is a mechanism that allows a subclass to provide a different implementation of a method that is already defined in its superclass. The subclass can override the superclass method by creating a new method with the same name and parameters.\n",
    "\n",
    "Here is an example code to demonstrate method overriding in Python:\n",
    "\"\"\"\n",
    "class car:\n",
    "    def info(self):\n",
    "        print(\"car is the best thing\")\n",
    "\n",
    "class lambo(car):\n",
    "    def info(self):\n",
    "        print(\"lambo is my favourite\")\n",
    "\n",
    "class bmw(car):\n",
    "    def info(self):\n",
    "        print(\"bmw is not my favourite \")\n",
    "\n",
    "# Create objects of lambo and bmw classes\n",
    "lambo = lambo()\n",
    "bmw = bmw()\n",
    "# Call the speak method of car, lambo and bmw objects\n",
    "car = car()\n",
    "car.info()\n",
    "lambo.info()\n",
    "bmw.info()\n",
    "        "
   ]
  }
 ],
 "metadata": {
  "kernelspec": {
   "display_name": "Python 3 (ipykernel)",
   "language": "python",
   "name": "python3"
  },
  "language_info": {
   "codemirror_mode": {
    "name": "ipython",
    "version": 3
   },
   "file_extension": ".py",
   "mimetype": "text/x-python",
   "name": "python",
   "nbconvert_exporter": "python",
   "pygments_lexer": "ipython3",
   "version": "3.10.8"
  }
 },
 "nbformat": 4,
 "nbformat_minor": 5
}
