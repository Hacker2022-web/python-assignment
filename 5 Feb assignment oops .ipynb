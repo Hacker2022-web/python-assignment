{
 "cells": [
  {
   "cell_type": "code",
   "execution_count": 1,
   "id": "be38cf7b-d90b-4d2a-b080-8431d98d06cc",
   "metadata": {},
   "outputs": [
    {
     "name": "stdout",
     "output_type": "stream",
     "text": [
      "Python is an object oriented programming language. Almost everything in Python is an object, with its properties and methods. A Class is like an object constructor, or a 'blueprint' for creating objects.\n",
      "We use the class keyword to create a class in Python. For example, class pw: ,, eg of object suppose Bike is a class then we can create objects like bike1, bike2, etc from the class.\n"
     ]
    }
   ],
   "source": [
    "\"\"\"Q1. Explain Class and Object with respect to Object-Oriented Programming. Give a suitable example.\"\"\"\n",
    "sol1 = \"Python is an object oriented programming language. Almost everything in Python is an object, with its properties and methods. A Class is like an object constructor, or a 'blueprint' for creating objects.\"\n",
    "example = \"We use the class keyword to create a class in Python. For example, class pw: ,, eg of object suppose Bike is a class then we can create objects like bike1, bike2, etc from the class.\"\n",
    "print(sol1)\n",
    "print(example)"
   ]
  },
  {
   "cell_type": "code",
   "execution_count": 2,
   "id": "3f06475e-a9e2-4423-98b6-3b34143f165e",
   "metadata": {},
   "outputs": [
    {
     "name": "stdout",
     "output_type": "stream",
     "text": [
      "The Four Pillars of Object-Oriented Programming\n",
      "Abstraction.\n",
      "Encapsulation.\n",
      "Inheritance.\n",
      "Polymorphism.\n"
     ]
    }
   ],
   "source": [
    "\"\"\"Q2. Name the four pillars of OOPs.\"\"\"\n",
    "sol_2 = \"\"\"The Four Pillars of Object-Oriented Programming\n",
    "Abstraction.\n",
    "Encapsulation.\n",
    "Inheritance.\n",
    "Polymorphism.\"\"\"\n",
    "print(sol_2)"
   ]
  },
  {
   "cell_type": "code",
   "execution_count": null,
   "id": "38662cc2-f0a7-4f7e-be5c-7adedc4c9123",
   "metadata": {},
   "outputs": [],
   "source": [
    "\"\"\"Q3. Explain why the __init__() function is used. Give a suitable example.\"\"\"\n",
    "sol_3 = \"\"\"_init_ is used to initializing the object’s state. The task of constructors is to initialize(assign values) to the data members of the class when an object of the class is created. Like methods, a constructor also contains a collection of statements(i.e. instructions) that are executed at the time of Object creation. It is run as soon as an object of a class is instantiated. The method is useful to do any initialization you want to do with your object.\"\"\"\n",
    "# example "
   ]
  },
  {
   "cell_type": "code",
   "execution_count": 4,
   "id": "094a07a4-b025-4045-9bf3-9e03b7b8ea17",
   "metadata": {},
   "outputs": [
    {
     "name": "stdout",
     "output_type": "stream",
     "text": [
      "self is not a reserved key word is used to represent an instance (object) of the given class. \n"
     ]
    }
   ],
   "source": [
    "\"\"\"Q4. Why self is used in OOPs?\"\"\"\n",
    "sol_4 = \"self is not a reserved key word is used to represent an instance (object) of the given class. \"\n",
    "print(sol_4)"
   ]
  },
  {
   "cell_type": "code",
   "execution_count": 5,
   "id": "e2eff7d0-78a6-40e4-bbbc-c5227d3215b3",
   "metadata": {},
   "outputs": [
    {
     "name": "stdout",
     "output_type": "stream",
     "text": [
      " Inheritance is a process of obtaining properties and characteristics(variables and methods) of another class.\n"
     ]
    }
   ],
   "source": [
    "#Q5. What is inheritance? Give an example for each type of inheritance.\n",
    "sol_5 =\" Inheritance is a process of obtaining properties and characteristics(variables and methods) of another class.\"\n",
    "print(sol_5)"
   ]
  },
  {
   "cell_type": "code",
   "execution_count": null,
   "id": "eaaa6dca-930c-42d0-adc8-971582509341",
   "metadata": {},
   "outputs": [],
   "source": []
  }
 ],
 "metadata": {
  "kernelspec": {
   "display_name": "Python 3 (ipykernel)",
   "language": "python",
   "name": "python3"
  },
  "language_info": {
   "codemirror_mode": {
    "name": "ipython",
    "version": 3
   },
   "file_extension": ".py",
   "mimetype": "text/x-python",
   "name": "python",
   "nbconvert_exporter": "python",
   "pygments_lexer": "ipython3",
   "version": "3.10.6"
  }
 },
 "nbformat": 4,
 "nbformat_minor": 5
}
