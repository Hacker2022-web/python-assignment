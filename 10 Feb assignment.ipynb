{
 "cells": [
  {
   "cell_type": "code",
   "execution_count": 15,
   "id": "b39dbbf0-fed5-4a88-9016-2023a8b25a5d",
   "metadata": {},
   "outputs": [
    {
     "data": {
      "text/plain": [
       "'Q1. Which function is used to open a file? What are the different modes of opening a file? Explain each mode\\nof file opening. '"
      ]
     },
     "execution_count": 15,
     "metadata": {},
     "output_type": "execute_result"
    }
   ],
   "source": [
    "'''Q1. Which function is used to open a file? What are the different modes of opening a file? Explain each mode\n",
    "of file opening. '''"
   ]
  },
  {
   "cell_type": "code",
   "execution_count": 16,
   "id": "da2ce05b-85a5-4765-a954-7185ca8deb76",
   "metadata": {},
   "outputs": [
    {
     "data": {
      "text/plain": [
       "' sol - open() function is used to open a file . \\nr\\tOpen a file for reading. (default)\\nw\\tOpen a file for writing. Creates a new file if it does not exist or truncates the file if it exists.\\nx\\tOpen a file for exclusive creation. If the file already exists, the operation fails.\\na\\tOpen a file for appending at the end of the file without truncating it. Creates a new file if it does not exist.\\nt\\tOpen in text mode. (default)\\nb\\tOpen in binary mode.\\n+\\tOpen a file for updating (reading and writing)\\nrb  open a file in binary mode for reading \\nwb  Open a file in binary mode for writing . '"
      ]
     },
     "execution_count": 16,
     "metadata": {},
     "output_type": "execute_result"
    }
   ],
   "source": [
    "''' sol - open() function is used to open a file . \n",
    "r\tOpen a file for reading. (default)\n",
    "w\tOpen a file for writing. Creates a new file if it does not exist or truncates the file if it exists.\n",
    "x\tOpen a file for exclusive creation. If the file already exists, the operation fails.\n",
    "a\tOpen a file for appending at the end of the file without truncating it. Creates a new file if it does not exist.\n",
    "t\tOpen in text mode. (default)\n",
    "b\tOpen in binary mode.\n",
    "+\tOpen a file for updating (reading and writing)\n",
    "rb  open a file in binary mode for reading \n",
    "wb  Open a file in binary mode for writing . '''\n"
   ]
  },
  {
   "cell_type": "code",
   "execution_count": 17,
   "id": "47e24090-55b1-4169-b7d4-68934234ee83",
   "metadata": {},
   "outputs": [
    {
     "data": {
      "text/plain": [
       "' ans - close() function is used to close file after changing or updating in file.\\nit is important to close the file because if we will not close the file info or changes will not be updated '"
      ]
     },
     "execution_count": 17,
     "metadata": {},
     "output_type": "execute_result"
    }
   ],
   "source": [
    "'''Q2. Why close() function is used? Why is it important to close a file? '''\n",
    "''' ans - close() function is used to close file after changing or updating in file.\n",
    "it is important to close the file because if we will not close the file info or changes will not be updated '''"
   ]
  },
  {
   "cell_type": "code",
   "execution_count": 18,
   "id": "e0bac861-b92e-4b4b-a626-c0da74a159ca",
   "metadata": {},
   "outputs": [
    {
     "name": "stdout",
     "output_type": "stream",
     "text": [
      "I want to become Data Scientist\n"
     ]
    }
   ],
   "source": [
    "'''Q3. Write a python program to create a text file. Write ‘I want to become a Data Scientist’ in that file. Then\n",
    "close the file. Open this file and read the content of the file.'''\n",
    "with open(\"text.txt\" , 'w') as f :\n",
    "    f.write(\"I want to become Data Scientist\")\n",
    "    f.close()\n",
    "    f1 = open(\"text.txt\" , 'r')\n",
    "    file = f1.read()\n",
    "    print(file)"
   ]
  },
  {
   "cell_type": "code",
   "execution_count": 19,
   "id": "bb7881e8-c745-4ae1-995a-5ba18b41f494",
   "metadata": {},
   "outputs": [
    {
     "name": "stdout",
     "output_type": "stream",
     "text": [
      "this is my fileData Science Masters course is highly curated and uniquely designed according to the latest industry standards. This program intills students the skills \n",
      "\n",
      "essential to knowledge discovery efforts to identify standard, novel, and truly differentiated solutions and decision-making, including skills in managing, querying, analyzing, visualizing, and extracting meaning from extremely\n",
      "\n",
      " large data sets. This trending program provides students with the statistical, mathematical and computational skills needed to meet the large-scale data science challenges of today's \n",
      "\n",
      "professional world. You will learn all the stack required to work in data science industry including cloud infrastructure and real-time industry projects.\n",
      "\n",
      " This course will be taught in Hindi language.\n"
     ]
    }
   ],
   "source": [
    "'''Q4. Explain the following with python code: read(), readline() and readlines().'''\n",
    "with open(\"text.txt\" , 'w') as s :\n",
    "    s.write(\"this is my fileData Science Masters course is highly curated and uniquely designed according to the latest industry standards. This program intills students the skills \\nessential to knowledge discovery efforts to identify standard, novel, and truly differentiated solutions and decision-making, including skills in managing, querying, analyzing, visualizing, and extracting meaning from extremely\\n large data sets. This trending program provides students with the statistical, mathematical and computational skills needed to meet the large-scale data science challenges of today's \\nprofessional world. You will learn all the stack required to work in data science industry including cloud infrastructure and real-time industry projects.\\n This course will be taught in Hindi language.\")\n",
    "    s.close()\n",
    "#readlines    \n",
    "with open(\"text.txt\" , 'r') as d :\n",
    "    l = d.readlines()\n",
    "    for i in l :\n",
    "        print(i)"
   ]
  },
  {
   "cell_type": "code",
   "execution_count": 20,
   "id": "d0aa6927-2954-4781-9cf2-52b98a5823ce",
   "metadata": {},
   "outputs": [
    {
     "name": "stdout",
     "output_type": "stream",
     "text": [
      "this is my fileData Science Masters course is highly curated and uniquely designed according to the latest industry standards. This program intills students the skills \n",
      "\n"
     ]
    }
   ],
   "source": [
    "#readline\n",
    "with open(\"text.txt\" , 'r') as d :\n",
    "    l = d.readline()\n",
    "    print(l)"
   ]
  },
  {
   "cell_type": "code",
   "execution_count": 21,
   "id": "8ccf7e3e-6ae0-4ed7-92e6-aec2a54ba05b",
   "metadata": {},
   "outputs": [
    {
     "name": "stdout",
     "output_type": "stream",
     "text": [
      "this is my fileData Science Masters course is highly curated and uniquely designed according to the latest industry standards. This program intills students the skills \n",
      "essential to knowledge discovery efforts to identify standard, novel, and truly differentiated solutions and decision-making, including skills in managing, querying, analyzing, visualizing, and extracting meaning from extremely\n",
      " large data sets. This trending program provides students with the statistical, mathematical and computational skills needed to meet the large-scale data science challenges of today's \n",
      "professional world. You will learn all the stack required to work in data science industry including cloud infrastructure and real-time industry projects.\n",
      " This course will be taught in Hindi language.\n"
     ]
    }
   ],
   "source": [
    "#read \n",
    "with open(\"text.txt\" , 'r') as d :\n",
    "    l = d.read()\n",
    "    print(l)"
   ]
  },
  {
   "cell_type": "code",
   "execution_count": 22,
   "id": "9d77f8ba-51be-4738-aa92-6c6a49033ee8",
   "metadata": {},
   "outputs": [
    {
     "name": "stdout",
     "output_type": "stream",
     "text": [
      "this is my fileData Science Masters course is highly curated and uniquely designed according to the latest industry standards. This program intills students the skills \n",
      "essential to knowledge discovery efforts to identify standard, novel, and truly differentiated solutions and decision-making, including skills in managing, querying, analyzing, visualizing, and extracting meaning from extremely\n",
      " large data sets. This trending program provides students with the statistical, mathematical and computational skills needed to meet the large-scale data science challenges of today's \n",
      "professional world. You will learn all the stack required to work in data science industry including cloud infrastructure and real-time industry projects.\n",
      " This course will be taught in Hindi language.\n"
     ]
    }
   ],
   "source": [
    "'''Q5. Explain why with statement is used with open(). What is the advantage of using with statement and\n",
    "open() together? '''\n",
    "\"\"\"The with statement in Python is used to wrap the execution of a block of code with methods defined by a context manager. When used with the open() function, the with statement helps to ensure that the file is properly closed after the block of code is executed, even if an error occurs during execution. This is because the with statement automatically takes care of closing the file, whereas if the open() function is used without with, it is the responsibility of the programmer to manually close the file after use, which can be error-prone.\n",
    "\n",
    "The main advantage of using the with statement and open() together is that it helps to avoid common programming errors related to file handling. For example, forgetting to close a file can cause issues such as data loss or file corruption, especially in large programs where file handling is complex. By using the with statement, you don't have to worry about closing the file manually, and the file is guaranteed to be closed properly, even if an exception is raised during execution.\n",
    "\n",
    "Here is an example of using with statement and open() function together to read the contents of a file:\n",
    "\"\"\"\n",
    "\n",
    "with open('text.txt', 'r') as f:\n",
    "    contents = f.read()\n",
    "    print(contents)\n"
   ]
  },
  {
   "cell_type": "code",
   "execution_count": 23,
   "id": "eca6f255-70ae-473a-b7ac-a2a0c893ba3b",
   "metadata": {},
   "outputs": [],
   "source": [
    "#Q6. Explain the write() and writelines() functions. Give a suitable example.\n",
    "#write function\n",
    "# The write() function is used to write a single string to a file.\n",
    "with open(\"text.txt\" , 'w') as s :\n",
    "    s.write(\"this is my fileData Science Masters course is highly curated and uniquely designed according to the latest industry standards. This program intills students the skills \\nessential to knowledge discovery efforts to identify standard, novel, and truly differentiated solutions and decision-making, including skills in managing, querying, analyzing, visualizing, and extracting meaning from extremely\\n large data sets. This trending program provides students with the statistical, mathematical and computational skills needed to meet the large-scale data science challenges of today's \\nprofessional world. You will learn all the stack required to work in data science industry including cloud infrastructure and real-time industry projects.\\n This course will be taught in Hindi language.\")\n",
    "    s.close()\n"
   ]
  },
  {
   "cell_type": "code",
   "execution_count": 24,
   "id": "ca12a719-4bde-4958-a567-f657d6f28e34",
   "metadata": {},
   "outputs": [],
   "source": [
    "#writelines function \n",
    "# The writelines() function, on the other hand, is used to write multiple strings to a file. \n",
    "with open(\"text.txt\" , 'w') as f :\n",
    "    f.writelines([\"Hello, World!\\n\", \"This is an example.\"])\n",
    "    f.close()"
   ]
  }
 ],
 "metadata": {
  "kernelspec": {
   "display_name": "Python 3 (ipykernel)",
   "language": "python",
   "name": "python3"
  },
  "language_info": {
   "codemirror_mode": {
    "name": "ipython",
    "version": 3
   },
   "file_extension": ".py",
   "mimetype": "text/x-python",
   "name": "python",
   "nbconvert_exporter": "python",
   "pygments_lexer": "ipython3",
   "version": "3.10.8"
  }
 },
 "nbformat": 4,
 "nbformat_minor": 5
}
