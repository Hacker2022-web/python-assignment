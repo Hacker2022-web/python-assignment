{
 "cells": [
  {
   "cell_type": "code",
   "execution_count": 1,
   "id": "58e4e79d-927c-4ff3-aa05-3253add4d1f9",
   "metadata": {},
   "outputs": [
    {
     "data": {
      "text/plain": [
       "'Q1. Create a function which will take a list as an argument and return the product of all the numbers\\nafter creating a flat list.\\nUse the below-given list as an argument for your function.\\nlist1 = [1,2,3,4, [44,55,66, True], False, (34,56,78,89,34), {1,2,3,3,2,1}, {1:34, \"key2\": [55, 67, 78, 89], 4: (45,\\n22, 61, 34)}, [56, \\'data science\\'], \\'Machine Learning\\']\\nNote: you must extract numeric keys and values of the dictionary also.'"
      ]
     },
     "execution_count": 1,
     "metadata": {},
     "output_type": "execute_result"
    }
   ],
   "source": [
    "'''Q1. Create a function which will take a list as an argument and return the product of all the numbers\n",
    "after creating a flat list.\n",
    "Use the below-given list as an argument for your function.\n",
    "list1 = [1,2,3,4, [44,55,66, True], False, (34,56,78,89,34), {1,2,3,3,2,1}, {1:34, \"key2\": [55, 67, 78, 89], 4: (45,\n",
    "22, 61, 34)}, [56, 'data science'], 'Machine Learning']\n",
    "Note: you must extract numeric keys and values of the dictionary also.'''\n"
   ]
  },
  {
   "cell_type": "code",
   "execution_count": 2,
   "id": "c8bbeba6-aef1-4daf-b321-0d14a1a9f6bd",
   "metadata": {},
   "outputs": [],
   "source": [
    "# solution Q1\n",
    "list1 = [1,2,3,4, [44,55,66, True], False, (34,56,78,89,34), {1,2,3,3,2,1}, {1:34, \"key2\": [55, 67, 78, 89], 4: (45,\n",
    "22, 61, 34)}, [56, 'data science'], 'Machine Learning']\n",
    "def num_product(in_list):\n",
    "    flat_list= []\n",
    "    product = 1\n",
    "    for i in in_list :\n",
    "        if type(i) == int:\n",
    "            flat_list.append(i)\n",
    "        elif type(i) in [list,tuple,set]:\n",
    "            for ele in i: \n",
    "                if type(ele) == int:\n",
    "                    flat_list.append(ele)\n",
    "        elif type(i) == dict:\n",
    "            for ele in i.keys():\n",
    "                if type(ele) == int:\n",
    "                    flat_list.append(ele)\n",
    "            for ele in i.values():\n",
    "                if type(ele) == int :\n",
    "                    flat_list.append(ele)\n",
    "                elif type(ele) in [list,tuple]:\n",
    "                    for ele1 in ele :\n",
    "                        if type(ele1)== int :\n",
    "                            flat_list.append(ele1)\n",
    "    for i in flat_list:\n",
    "        product *=i\n",
    "    return f\"The product of all the numbers in flat list is {product}\"                 "
   ]
  },
  {
   "cell_type": "code",
   "execution_count": 3,
   "id": "94509b84-57af-4eec-987e-3282f3d10292",
   "metadata": {},
   "outputs": [
    {
     "data": {
      "text/plain": [
       "'The product of all the numbers in flat list is 4134711838987085478833841242112000'"
      ]
     },
     "execution_count": 3,
     "metadata": {},
     "output_type": "execute_result"
    }
   ],
   "source": [
    "num_product(list1)"
   ]
  },
  {
   "cell_type": "code",
   "execution_count": 4,
   "id": "a1a516bd-674e-4ec5-a22b-543e9f838ba0",
   "metadata": {},
   "outputs": [
    {
     "name": "stdout",
     "output_type": "stream",
     "text": [
      "I$wznt$to$yexome$z$Dztz$Sxientist\n"
     ]
    }
   ],
   "source": [
    "\"\"\"Q2. Write a python program for encrypting a message sent to you by your friend. The logic of encryption\n",
    "should be such that, for a the output should be z. For b, the output should be y. For c, the output should\n",
    "be x respectively. Also, the whitespace should be replaced with a dollar sign. Keep the punctuation\n",
    "marks unchanged.\n",
    "Input Sentence: I want to become a Data Scientist.\n",
    "Encrypt the above input sentence using the program you just created.\n",
    "Note: Convert the given input sentence into lowercase before encrypting. The final output should be\n",
    "lowercase.\"\"\"\n",
    "encrypt = \"I want to become a Data Scientist\"\n",
    "dict = replace = {'a' : \"z\", 'b':\"y\", 'c':\"x\", ' ': \"$\"}\n",
    "for i in dict:\n",
    "\tencrypt = encrypt.replace(i,dict[i])\n",
    "print(encrypt)  "
   ]
  },
  {
   "cell_type": "code",
   "execution_count": null,
   "id": "3e49d73e-d77d-47b3-87fc-bb19459cbaf1",
   "metadata": {},
   "outputs": [],
   "source": []
  }
 ],
 "metadata": {
  "kernelspec": {
   "display_name": "Python 3 (ipykernel)",
   "language": "python",
   "name": "python3"
  },
  "language_info": {
   "codemirror_mode": {
    "name": "ipython",
    "version": 3
   },
   "file_extension": ".py",
   "mimetype": "text/x-python",
   "name": "python",
   "nbconvert_exporter": "python",
   "pygments_lexer": "ipython3",
   "version": "3.10.6"
  }
 },
 "nbformat": 4,
 "nbformat_minor": 5
}
