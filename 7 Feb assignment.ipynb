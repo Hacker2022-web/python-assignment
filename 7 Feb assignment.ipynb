{
 "cells": [
  {
   "cell_type": "code",
   "execution_count": null,
   "id": "270d60a3-69ee-4162-9b0f-9a8580def644",
   "metadata": {},
   "outputs": [],
   "source": [
    "'''Q1. You are writing code for a company. The requirement of the company is that you create a python\n",
    "function that will check whether the password entered by the user is correct or not. The function should\n",
    "take the password as input and return the string “Valid Password” if the entered password follows the\n",
    "below-given password guidelines else it should return “Invalid Password”.\n",
    "Note: 1. The Password should contain at least two uppercase letters and at least two lowercase letters.\n",
    "2. The Password should contain at least a number and three special characters.\n",
    "3. The length of the password should be 10 characters long.'''"
   ]
  },
  {
   "cell_type": "code",
   "execution_count": 1,
   "id": "00bac826-1520-44be-80c2-a7d42643e0b5",
   "metadata": {},
   "outputs": [],
   "source": [
    "import re \n",
    "def check_pass(password):\n",
    "    if len(password) < 10: \n",
    "        return\"invalid password\"\n",
    "    if len(re.findall('[A-Z]', password)) < 2:\n",
    "        return\"invalid password\"\n",
    "    if len(re.findall('[a-z]', password)) < 2:\n",
    "        return\"invalid password\"\n",
    "    if len(re.findall(\"[0-9]\",password)) < 2:\n",
    "        return\"invalid password\"\n",
    "    if len(re.findall(r'[!@#$%^&*(),.?\":{}|<>]', password)) < 3:\n",
    "        return \"Invalid Password\"\n",
    "    return\"valid password\""
   ]
  },
  {
   "cell_type": "code",
   "execution_count": 2,
   "id": "c481d831-b0c2-442f-9d69-0fec6b81d84e",
   "metadata": {},
   "outputs": [
    {
     "data": {
      "text/plain": [
       "'valid password'"
      ]
     },
     "execution_count": 2,
     "metadata": {},
     "output_type": "execute_result"
    }
   ],
   "source": [
    "check_pass(\"37#@djh34543@@#fhjkshfkDFFGGH_jfdSAH\")"
   ]
  },
  {
   "cell_type": "code",
   "execution_count": null,
   "id": "db402254-4420-461f-bc57-59375885dd1d",
   "metadata": {},
   "outputs": [],
   "source": [
    "'''Q2. Solve the below-given questions using at least one of the following:\n",
    "1. Lambda functioJ\n",
    "2. Filter functioJ\n",
    "3. Zap functioJ\n",
    "4. List ComprehensioI\n",
    "B Check if the string starts with a particular letterY\n",
    "B Check if the string is numericY\n",
    "B Sort a list of tuples having fruit names and their quantity. [(\"mango\",99),(\"orange\",80), (\"grapes\", 1000)-\n",
    "B Find the squares of numbers from 1 to 10Y\n",
    "B Find the cube root of numbers from 1 to 10Y\n",
    "B Check if a given number is evenY\n",
    "B Filter odd numbers from the given list.\n",
    "[1,2,3,4,5,6,7,8,9,10-\n",
    "B Sort a list of integers into positive and negative integers lists.\n",
    "[1,2,3,4,5,6,-1,-2,-3,-4,-5,0]'''"
   ]
  },
  {
   "cell_type": "code",
   "execution_count": 3,
   "id": "748057c9-a6b2-4a63-9e6e-c0c0257a7af3",
   "metadata": {},
   "outputs": [
    {
     "data": {
      "text/plain": [
       "['bat', 'banana']"
      ]
     },
     "execution_count": 3,
     "metadata": {},
     "output_type": "execute_result"
    }
   ],
   "source": [
    "l = [\"coding\", \"cricket\", \"bat\", \"date\", 'banana']\n",
    "# start with letter b \n",
    "# lambda \n",
    "list(filter(lambda x: x.startswith(\"b\") , l ))"
   ]
  },
  {
   "cell_type": "code",
   "execution_count": 4,
   "id": "8403e462-5897-4151-a49f-4cb4174c1374",
   "metadata": {},
   "outputs": [
    {
     "data": {
      "text/plain": [
       "['bat', 'banana']"
      ]
     },
     "execution_count": 4,
     "metadata": {},
     "output_type": "execute_result"
    }
   ],
   "source": [
    "# comprehension \n",
    "l = [\"coding\", \"cricket\", \"bat\", \"date\", 'banana']\n",
    "[i for i in l if i.startswith('b')]"
   ]
  },
  {
   "cell_type": "code",
   "execution_count": 5,
   "id": "794f7e84-3434-4ecd-ad35-dbbdd91c8c44",
   "metadata": {},
   "outputs": [
    {
     "data": {
      "text/plain": [
       "['32']"
      ]
     },
     "execution_count": 5,
     "metadata": {},
     "output_type": "execute_result"
    }
   ],
   "source": [
    "#2 string is numeric \n",
    "#lambda and filter  \n",
    "l = [\"coding\", \"apple \",\"32\",\"786.2\", \"car\" ]\n",
    "list(filter(lambda x : x.isnumeric(), l ))"
   ]
  },
  {
   "cell_type": "code",
   "execution_count": 6,
   "id": "14d0ada6-f8da-4da7-b5de-5069ccbe2aea",
   "metadata": {},
   "outputs": [
    {
     "data": {
      "text/plain": [
       "['32']"
      ]
     },
     "execution_count": 6,
     "metadata": {},
     "output_type": "execute_result"
    }
   ],
   "source": [
    "#  Comprehension \n",
    "l = [\"coding\", \"apple \",\"32\",\"786.2\", \"car\" ]\n",
    "[i for i in l if i.isnumeric()]"
   ]
  },
  {
   "cell_type": "code",
   "execution_count": 7,
   "id": "90b4ce25-3547-4ffe-b965-3414c945f0b2",
   "metadata": {},
   "outputs": [
    {
     "data": {
      "text/plain": [
       "[('orange', 80), ('mango', 99), ('grapes', 1000)]"
      ]
     },
     "execution_count": 7,
     "metadata": {},
     "output_type": "execute_result"
    }
   ],
   "source": [
    "#3 Sort a list of tuples having fruit names and their quantity:\n",
    "fruit_list = [(\"mango\",99),(\"orange\",80),(\"grapes\",1000)]\n",
    "\n",
    "# Using lambda and sort\n",
    "fruit_list.sort(key=lambda x: x[1])\n",
    "\n",
    "# Using sorted and lambda\n",
    "sorted(fruit_list, key = lambda s : s[1])\n"
   ]
  },
  {
   "cell_type": "code",
   "execution_count": 13,
   "id": "2bb6a91c-d0c3-4299-bd06-7c2b8d7b6605",
   "metadata": {},
   "outputs": [
    {
     "data": {
      "text/plain": [
       "[1, 4, 9, 16, 25, 36, 49, 64, 81, 100]"
      ]
     },
     "execution_count": 13,
     "metadata": {},
     "output_type": "execute_result"
    }
   ],
   "source": [
    "#4 find the Squares of number 1 - 10 \n",
    "# LAMBDA AND MAP \n",
    "list(map(lambda s : s**2 , range(1,11)))\n"
   ]
  },
  {
   "cell_type": "code",
   "execution_count": 3,
   "id": "98ac6801-5db3-4218-8559-a675fa449e21",
   "metadata": {},
   "outputs": [
    {
     "data": {
      "text/plain": [
       "[1, 4, 9, 16, 25, 36, 49, 64, 81, 100]"
      ]
     },
     "execution_count": 3,
     "metadata": {},
     "output_type": "execute_result"
    }
   ],
   "source": [
    "#comprehension \n",
    "[ i**2 for i in range(1,11) ]"
   ]
  },
  {
   "cell_type": "code",
   "execution_count": 4,
   "id": "157c4c7a-d20d-4ccd-8d77-36760e3c294a",
   "metadata": {},
   "outputs": [],
   "source": [
    "#5 Find the cube root of numbers from 1 to 10\n"
   ]
  },
  {
   "cell_type": "code",
   "execution_count": 5,
   "id": "ef207951-7a5e-40c3-b593-06cb827aa93b",
   "metadata": {},
   "outputs": [
    {
     "data": {
      "text/plain": [
       "[1.0,\n",
       " 1.2599210498948732,\n",
       " 1.4422495703074083,\n",
       " 1.5874010519681994,\n",
       " 1.7099759466766968,\n",
       " 1.8171205928321397,\n",
       " 1.912931182772389,\n",
       " 2.0,\n",
       " 2.080083823051904,\n",
       " 2.154434690031884]"
      ]
     },
     "execution_count": 5,
     "metadata": {},
     "output_type": "execute_result"
    }
   ],
   "source": [
    "import math \n",
    "list(map(lambda x : math.pow(x , 1/3), range(1,11)))"
   ]
  },
  {
   "cell_type": "code",
   "execution_count": 7,
   "id": "4951d7a5-804a-4a93-84d8-ba752ab98b0b",
   "metadata": {},
   "outputs": [
    {
     "data": {
      "text/plain": [
       "[1.0,\n",
       " 1.2599210498948732,\n",
       " 1.4422495703074083,\n",
       " 1.5874010519681994,\n",
       " 1.7099759466766968,\n",
       " 1.8171205928321397,\n",
       " 1.912931182772389,\n",
       " 2.0,\n",
       " 2.080083823051904,\n",
       " 2.154434690031884]"
      ]
     },
     "execution_count": 7,
     "metadata": {},
     "output_type": "execute_result"
    }
   ],
   "source": [
    "# Using list comprehension\n",
    "import math\n",
    "[  math.pow(i, 1/3) for i in range(1,11)]"
   ]
  },
  {
   "cell_type": "code",
   "execution_count": 9,
   "id": "bedddf8a-afc4-4676-8407-e2e496b80117",
   "metadata": {},
   "outputs": [
    {
     "data": {
      "text/plain": [
       "[24, 42, 4, 64, 74, 428]"
      ]
     },
     "execution_count": 9,
     "metadata": {},
     "output_type": "execute_result"
    }
   ],
   "source": [
    "#6 Check if a given number is even\n",
    "#Using lambda function\n",
    "given_num = [24,5,42,4,57,64,67,74,428]\n",
    "list(filter(lambda x : x%2 == 0 , given_num))"
   ]
  },
  {
   "cell_type": "code",
   "execution_count": 10,
   "id": "089c9e91-6709-47e5-ad00-1a3bdb40f612",
   "metadata": {},
   "outputs": [
    {
     "data": {
      "text/plain": [
       "[24, 42, 4, 64, 74, 428]"
      ]
     },
     "execution_count": 10,
     "metadata": {},
     "output_type": "execute_result"
    }
   ],
   "source": [
    "# using comprehension\n",
    "given_num = [24,5,42,4,57,64,67,74,428]\n",
    "[i for i in given_num if i%2 == 0 ]"
   ]
  },
  {
   "cell_type": "code",
   "execution_count": 11,
   "id": "1932055d-3dd8-47a9-a1a0-b8c2ec7bdf53",
   "metadata": {},
   "outputs": [
    {
     "data": {
      "text/plain": [
       "[1, 3, 5, 7, 9]"
      ]
     },
     "execution_count": 11,
     "metadata": {},
     "output_type": "execute_result"
    }
   ],
   "source": [
    "# Filter odd numbers from the given list.\n",
    "#[1,2,3,4,5,6,7,8,9,10]\n",
    "# usind lambda and filter \n",
    "l = [1,2,3,4,5,6,7,8,9,10]\n",
    "list(filter(lambda x : x%2 != 0 , l ))"
   ]
  },
  {
   "cell_type": "code",
   "execution_count": 12,
   "id": "33e5af2b-7b99-4a86-a5f1-217ab675400a",
   "metadata": {},
   "outputs": [
    {
     "data": {
      "text/plain": [
       "[1, 3, 5, 7, 9]"
      ]
     },
     "execution_count": 12,
     "metadata": {},
     "output_type": "execute_result"
    }
   ],
   "source": [
    "# using comprehension \n",
    "[ i for i in l if i%2 != 0]"
   ]
  },
  {
   "cell_type": "code",
   "execution_count": 16,
   "id": "948ceb2f-86b5-4509-89a8-ef7a31656051",
   "metadata": {},
   "outputs": [],
   "source": [
    "'''Sort a list of integers into positive and negative integers lists.\n",
    "[1,2,3,4,5,6,-1,-2,-3,-4,-5,0]'''\n",
    "# using lambda \n",
    "l = [1,2,3,4,5,6,-1,-2,-3,-4,-5,0] \n",
    "positive = list(filter(lambda x : x > 0 , l ))\n",
    "negative = list(filter(lambda x : x < 0 , l))"
   ]
  },
  {
   "cell_type": "code",
   "execution_count": 17,
   "id": "474733ed-a700-48b0-8b72-1dbb84c29c2a",
   "metadata": {},
   "outputs": [
    {
     "name": "stdout",
     "output_type": "stream",
     "text": [
      "[1, 2, 3, 4, 5, 6] [-1, -2, -3, -4, -5]\n"
     ]
    }
   ],
   "source": [
    "print(positive , negative )"
   ]
  },
  {
   "cell_type": "code",
   "execution_count": 20,
   "id": "8c59942c-45f3-49a1-92b4-1a0930011fc2",
   "metadata": {},
   "outputs": [
    {
     "name": "stdout",
     "output_type": "stream",
     "text": [
      "Positive integers: [1, 2, 3, 4, 5, 6]\n",
      "Negative integers: [-1, -2, -3, -4, -5]\n"
     ]
    }
   ],
   "source": [
    "# using comprehension \n",
    "lst = [1, 2, 3, 4, 5, 6, -1, -2, -3, -4, -5, 0]\n",
    "positive = [x for x in lst if x > 0]\n",
    "negative = [x for x in lst if x < 0]\n",
    "\n",
    "print(\"Positive integers:\", positive)\n",
    "print(\"Negative integers:\", negative)\n"
   ]
  },
  {
   "cell_type": "code",
   "execution_count": null,
   "id": "12fa093b-a6c7-43d5-a96c-8ce30c525b5d",
   "metadata": {},
   "outputs": [],
   "source": []
  }
 ],
 "metadata": {
  "kernelspec": {
   "display_name": "Python 3 (ipykernel)",
   "language": "python",
   "name": "python3"
  },
  "language_info": {
   "codemirror_mode": {
    "name": "ipython",
    "version": 3
   },
   "file_extension": ".py",
   "mimetype": "text/x-python",
   "name": "python",
   "nbconvert_exporter": "python",
   "pygments_lexer": "ipython3",
   "version": "3.10.8"
  }
 },
 "nbformat": 4,
 "nbformat_minor": 5
}
