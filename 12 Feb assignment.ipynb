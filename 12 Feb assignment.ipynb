{
 "cells": [
  {
   "cell_type": "code",
   "execution_count": null,
   "id": "10c515b3-c157-4694-9fc7-0ae06ef540f5",
   "metadata": {},
   "outputs": [],
   "source": [
    "'''Q1. What is Exception in python ? Write the difference etween Exceptions and syntax error ?'''"
   ]
  },
  {
   "cell_type": "code",
   "execution_count": null,
   "id": "843f03f7-e579-4fc2-8682-0706c19ff172",
   "metadata": {},
   "outputs": [],
   "source": [
    "\"\"\" Exception handling in python means to handle an error whithout stoping\n",
    "an code from executing it is done by using try and exeption block\"\"\"\n",
    "#difference \n",
    "#syntax error\n",
    "''' This error occurs when an python enterpreter is unable to understand the syntax '''\n",
    "#Exception\n",
    "'''Exceptions are errors that occur during program execution, after the code has been \n",
    " successfully compiled and is being executed. Exceptions can occur for a variety of \n",
    " reasons, such as invalid user input, running out of memory, or attempting to perform\n",
    " an illegal operation. Exceptions are not always predictable and may occur at runtime, \n",
    " depending on user input or other external factors.'''"
   ]
  },
  {
   "cell_type": "code",
   "execution_count": null,
   "id": "d9dd87d8-cae1-4b2c-8c7e-ce28544be830",
   "metadata": {},
   "outputs": [],
   "source": [
    "#Q2. What happens when an exception is not handled? Explain with an example.\n",
    "'''when an exception is not handled it shows an error and stop executing the code '''"
   ]
  },
  {
   "cell_type": "code",
   "execution_count": 3,
   "id": "3b9592ab-2012-45c1-ae35-2e05282375b4",
   "metadata": {},
   "outputs": [
    {
     "ename": "SyntaxError",
     "evalue": "invalid syntax (575586986.py, line 2)",
     "output_type": "error",
     "traceback": [
      "\u001b[0;36m  Cell \u001b[0;32mIn[3], line 2\u001b[0;36m\u001b[0m\n\u001b[0;31m    for in range(10):\u001b[0m\n\u001b[0m        ^\u001b[0m\n\u001b[0;31mSyntaxError\u001b[0m\u001b[0;31m:\u001b[0m invalid syntax\n"
     ]
    }
   ],
   "source": [
    "#example \n",
    "for in range(10):\n",
    "    print(i)"
   ]
  },
  {
   "cell_type": "code",
   "execution_count": 8,
   "id": "a3021e1a-5198-4b2e-ab0e-180e37681cf8",
   "metadata": {},
   "outputs": [
    {
     "name": "stdin",
     "output_type": "stream",
     "text": [
      "Enter a number:  0\n"
     ]
    },
    {
     "name": "stdout",
     "output_type": "stream",
     "text": [
      "You cannot divide by zero!\n"
     ]
    }
   ],
   "source": [
    "#Q3. Which Python statements are used to catch and handle exceptions? Explain with an example.\n",
    "'''In Python, we can use try and except statements to catch and handle exceptions. The try block\n",
    "contains the code that may raise an exception, and the except block contains the code that will \n",
    "handle the exception if it occurs.'''\n",
    "# Example program that handles a ZeroDivisionError exception\n",
    "try:\n",
    "    x = int(input(\"Enter a number: \"))\n",
    "    y = 10 / x\n",
    "    print(\"The result is:\", y)\n",
    "except ZeroDivisionError:\n",
    "    print(\"You cannot divide by zero!\")"
   ]
  },
  {
   "cell_type": "code",
   "execution_count": 17,
   "id": "71277bc6-7000-4610-9ed4-76831bdd1d4e",
   "metadata": {},
   "outputs": [
    {
     "name": "stdin",
     "output_type": "stream",
     "text": [
      "enter num 1\n"
     ]
    },
    {
     "name": "stdout",
     "output_type": "stream",
     "text": [
      "Number is grater than zero and result is  100.0\n"
     ]
    }
   ],
   "source": [
    "'''4. Explain with an example:\n",
    "\n",
    "a. try and else\n",
    "b. finally\n",
    "c. raise'''\n",
    "try: \n",
    "    i = int(input(\"enter num\"))\n",
    "    i = 100/i \n",
    "    if i< 0:\n",
    "        print(\"number is less than zero\")\n",
    "except ZeroDivisionError:\n",
    "    print(\"You cannot divide by zero!\")        \n",
    "else :\n",
    "    print(\"Number is grater than zero\",\"and result is \", i )"
   ]
  },
  {
   "cell_type": "code",
   "execution_count": 22,
   "id": "e3b72d8c-acc5-4c90-a3d6-8c6aa9f48b9e",
   "metadata": {},
   "outputs": [
    {
     "name": "stdin",
     "output_type": "stream",
     "text": [
      "enter num 0\n"
     ]
    },
    {
     "name": "stdout",
     "output_type": "stream",
     "text": [
      "You cannot divide by zero!\n",
      "this finally block will always be executed\n"
     ]
    }
   ],
   "source": [
    "#finally \n",
    "try: \n",
    "    i = int(input(\"enter num\"))\n",
    "    i = 100/i \n",
    "    if i< 0:\n",
    "        print(\"number is less than zero\")\n",
    "except ZeroDivisionError:\n",
    "    print(\"You cannot divide by zero!\")        \n",
    "else :\n",
    "    print(\"Number is grater than zero\",\"and result is \", i )\n",
    "finally :\n",
    "    print(\"this finally block will always be executed\")"
   ]
  },
  {
   "cell_type": "code",
   "execution_count": 15,
   "id": "c2dd6949-4d32-4d7e-98ed-182e75bcf992",
   "metadata": {},
   "outputs": [],
   "source": [
    "#raise \n",
    "def divide(a, b):\n",
    "    if a ==0 or b==0:\n",
    "        raise ZeroDivisionError(\"cant take input as zero\")\n",
    "    result = a/b \n",
    "    print (result)"
   ]
  },
  {
   "cell_type": "code",
   "execution_count": 18,
   "id": "cf51c793-5ad7-4101-bc52-4d3e4a069afb",
   "metadata": {},
   "outputs": [
    {
     "name": "stdin",
     "output_type": "stream",
     "text": [
      "Enter value for l:  4\n",
      "Enter value for k:  2\n"
     ]
    },
    {
     "name": "stdout",
     "output_type": "stream",
     "text": [
      "2.0\n"
     ]
    }
   ],
   "source": [
    "try:\n",
    "    l = int(input(\"Enter value for l as numerator \"))\n",
    "    k = int(input(\"Enter value for k as dinominator : \"))  \n",
    "    divide(l, k)\n",
    "except ZeroDivisionError as e:\n",
    "    print(e)"
   ]
  },
  {
   "cell_type": "code",
   "execution_count": 23,
   "id": "88d07c73-98e3-4336-b25d-2034fe6a7067",
   "metadata": {},
   "outputs": [
    {
     "name": "stdin",
     "output_type": "stream",
     "text": [
      "Enter your age:  45\n"
     ]
    },
    {
     "name": "stdout",
     "output_type": "stream",
     "text": [
      "Your age has been successfully registered as:  45\n"
     ]
    }
   ],
   "source": [
    "#Q5. What are Custom Exceptions in python? Why do we need Custom Exceptions? Explain an example.\n",
    "\"\"\"Coustom exception handling in python is also known as user defined exception.\n",
    "We need coustom exception handling because it can be defined by user and that \n",
    "makes the code more readable.\"\"\"\n",
    "#Example \n",
    "class AgeRegistrationError(Exception):\n",
    "    pass\n",
    "\n",
    "def ageregistration(age):\n",
    "    if age <= 0:\n",
    "        raise AgeRegistrationError(\"Invalid age: age must be greater than zero.\")\n",
    "    elif age > 150:\n",
    "        raise AgeRegistrationError(\"Invalid age: age cannot be greater than 150.\")\n",
    "    else:\n",
    "        print(\"Your age has been successfully registered as: \", age)\n",
    "\n",
    "try:\n",
    "    age = int(input(\"Enter your age: \"))\n",
    "    ageregistration(age)\n",
    "except Exception as e:\n",
    "    raise AgeRegistrationError(\"Error registering age:{}\".format(e))"
   ]
  },
  {
   "cell_type": "code",
   "execution_count": 24,
   "id": "faeab0dd-3634-49c2-8fa9-2cdb77a68b2c",
   "metadata": {},
   "outputs": [
    {
     "name": "stdout",
     "output_type": "stream",
     "text": [
      "Error writing to file: [Errno 2] No such file or directory: 'test1.txt'\n"
     ]
    }
   ],
   "source": [
    "#Q6. Create a custom exception class. Use this class to handle an exception.\n",
    "class CustomException(Exception):\n",
    "    pass\n",
    "try:\n",
    "    f = open(\"test1.txt\", \"r\")\n",
    "    f.write(\"write into my file\")\n",
    "except IOError as e:\n",
    "    raise CustomException(\"Error writing to file: {}\".format(e))\n",
    "else:\n",
    "    f.close()\n",
    "    print(\"File write was successful.\")"
   ]
  },
  {
   "cell_type": "code",
   "execution_count": null,
   "id": "82383ae5-4a5b-4b04-951e-55db8c7c4b30",
   "metadata": {},
   "outputs": [],
   "source": []
  }
 ],
 "metadata": {
  "kernelspec": {
   "display_name": "Python 3 (ipykernel)",
   "language": "python",
   "name": "python3"
  },
  "language_info": {
   "codemirror_mode": {
    "name": "ipython",
    "version": 3
   },
   "file_extension": ".py",
   "mimetype": "text/x-python",
   "name": "python",
   "nbconvert_exporter": "python",
   "pygments_lexer": "ipython3",
   "version": "3.10.8"
  }
 },
 "nbformat": 4,
 "nbformat_minor": 5
}
